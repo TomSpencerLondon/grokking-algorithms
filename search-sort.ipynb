{
 "cells": [
  {
   "cell_type": "code",
   "execution_count": 9,
   "id": "e9622aa5-d18b-4353-8a21-633c0238b149",
   "metadata": {},
   "outputs": [],
   "source": [
    "\n",
    "def binary_search(arr, target):\n",
    "    low = 0\n",
    "    high = len(arr) - 1\n",
    "\n",
    "    while low <= high:\n",
    "        mid = (low + high) // 2\n",
    "        current = arr[mid]\n",
    "\n",
    "        if current == target:\n",
    "            return mid\n",
    "        elif current < target:\n",
    "            low = mid + 1\n",
    "        else:\n",
    "            high = mid - 1\n",
    "\n",
    "    return -1"
   ]
  },
  {
   "cell_type": "code",
   "execution_count": 8,
   "id": "70f828ec-d605-4a75-a10c-38abdaa2a3df",
   "metadata": {},
   "outputs": [
    {
     "data": {
      "text/plain": [
       "4"
      ]
     },
     "execution_count": 8,
     "metadata": {},
     "output_type": "execute_result"
    }
   ],
   "source": [
    "binary_search([1, 2, 4, 5, 8, 9, 11], 8)"
   ]
  },
  {
   "cell_type": "code",
   "execution_count": 29,
   "id": "e532e3a4-5574-4d44-8793-82e4c83cbfe3",
   "metadata": {},
   "outputs": [
    {
     "name": "stdout",
     "output_type": "stream",
     "text": [
      "[2, 9, 4, 3, 4, 8]\n",
      "[2, 3, 4, 9, 4, 8]\n",
      "[2, 3, 4, 9, 4, 8]\n",
      "[2, 3, 4, 4, 9, 8]\n",
      "[2, 3, 4, 4, 8, 9]\n",
      "[2, 3, 4, 4, 8, 9]\n",
      "[2, 3, 4, 4, 8, 9]\n"
     ]
    }
   ],
   "source": [
    "def selection_sort(arr):\n",
    "    for i in range(len(arr)):\n",
    "        minimum = arr[i]\n",
    "        smallest_index = i\n",
    "        for j in range(i + 1, len(arr)):\n",
    "            if (arr[j] < minimum):\n",
    "                smallest_index = j\n",
    "                minimum = arr[smallest_index]\n",
    "        current = arr[i]\n",
    "        arr[i] = minimum\n",
    "        arr[smallest_index] = current\n",
    "        print(arr)\n",
    "    return arr\n",
    "        \n",
    "\n",
    "\n",
    "\n",
    "\n",
    "\n",
    "print(selection_sort([8, 9, 4, 3, 4, 2]))\n",
    "            "
   ]
  },
  {
   "cell_type": "code",
   "execution_count": null,
   "id": "d2a7e023-ee81-47d5-b054-fb70f12c7b23",
   "metadata": {},
   "outputs": [],
   "source": []
  }
 ],
 "metadata": {
  "kernelspec": {
   "display_name": "Python 3 (ipykernel)",
   "language": "python",
   "name": "python3"
  },
  "language_info": {
   "codemirror_mode": {
    "name": "ipython",
    "version": 3
   },
   "file_extension": ".py",
   "mimetype": "text/x-python",
   "name": "python",
   "nbconvert_exporter": "python",
   "pygments_lexer": "ipython3",
   "version": "3.12.0"
  }
 },
 "nbformat": 4,
 "nbformat_minor": 5
}
